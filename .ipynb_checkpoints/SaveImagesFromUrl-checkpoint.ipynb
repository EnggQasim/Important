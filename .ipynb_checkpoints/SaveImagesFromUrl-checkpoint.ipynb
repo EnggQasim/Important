{
 "cells": [
  {
   "cell_type": "markdown",
   "metadata": {},
   "source": [
    "# Save Images from web url"
   ]
  },
  {
   "cell_type": "code",
   "execution_count": 1,
   "metadata": {},
   "outputs": [
    {
     "name": "stdout",
     "output_type": "stream",
     "text": [
      "False****"
     ]
    },
    {
     "name": "stderr",
     "output_type": "stream",
     "text": [
      "/home/muhammadqasim/anaconda3/lib/python3.7/site-packages/giphypop.py:241: UserWarning: You are using the giphy public api key. This should be used for testing only and may be deactivated in the future. See https://github.com/Giphy/GiphyAPI.\n",
      "  warnings.warn('You are using the giphy public api key. This '\n"
     ]
    },
    {
     "name": "stdout",
     "output_type": "stream",
     "text": [
      "OBaVg52wtTZ.png\n",
      "True****GsNJNwuI-UM.gif\n",
      "True****GsNJNwuI-UM.gif\n",
      "True****hsts-pixel.gif?c=3.2.5\n"
     ]
    }
   ],
   "source": [
    "Folder = \"aaa\"\n",
    "url = \"https://www.facebook.com/\"\n",
    "\n",
    "from bs4 import BeautifulSoup as BSHTML\n",
    "import urllib\n",
    "import os\n",
    "import giphypop\n",
    "import requests\n",
    "\n",
    "\n",
    "\n",
    "page = urllib.request.urlopen(url)\n",
    "soup = BSHTML(page)\n",
    "images = soup.findAll('img')\n",
    "for k, image in enumerate(images):\n",
    "    #print image source\n",
    "    #print (image['src'])\n",
    "    filename=image['src'].split('/')[-1]\n",
    "    ex=\"\"\n",
    "    if \".jpg\" in filename.lower():\n",
    "        ex=\".jpg\"\n",
    "        print(\".jpg\" in filename.lower(), end=\"****\")\n",
    "    elif \".png\" in filename.lower():\n",
    "        ex=\".png\"\n",
    "        print(\".jpg\" in filename.lower(), end=\"****\")\n",
    "    elif \".jpeg\" in filename.lower():\n",
    "        ex=\".jpeg\"\n",
    "        print(\".jpg\" in filename.lower(), end=\"****\")\n",
    "    elif \".gif\" in str(filename.lower()):\n",
    "        ex=\".gif\"\n",
    "        response = requests.get(url)\n",
    "        data = response.text\n",
    "        open(Folder+\"/\"+str(k)+\"pic \"+str(ex), \"w\").write(data)\n",
    "        \n",
    "        print(\".gif\" in str(filename.lower()), end=\"****\")\n",
    "    else:\n",
    "        ex=\"\"\n",
    "        \n",
    "    if not os.path.exists(Folder):\n",
    "        os.makedirs(Folder)\n",
    "    \n",
    "    try:\n",
    "        g = giphypop.Giphy()\n",
    "        urllib.request.urlretrieve(image['src'], Folder+\"/\"+str(k)+\"pic \"+str(ex))\n",
    "        print(filename)\n",
    "    except:\n",
    "        print(\"Error\", filename)\n",
    "    #print alternate text\n",
    "    #print (image['alt'])\n"
   ]
  },
  {
   "cell_type": "code",
   "execution_count": null,
   "metadata": {},
   "outputs": [],
   "source": [
    "def get_images(url, soup):\n",
    "    #this makes a list of bs4 element tags\n",
    "    print('URL: ', url)\n",
    "    n = 0\n",
    "    images = [img for img in soup.findAll('img')]\n",
    "\n",
    "    #compile our unicode list of image links\n",
    "    image_links = [each.get('src') for each in images]\n",
    "    for each in image_links:\n",
    "        print (\"maybe an image\")\n",
    "        print (each)\n",
    "        n = n + 1\n",
    "        path = urlparse.urlparse(each).path\n",
    "        fn = (os.path.split(path)[1]).strip()\n",
    "        ext = (os.path.splitext(fn)[1]).strip().lower()\n",
    "        if (fn == '' or ext == ''):\n",
    "            continue\n",
    "\n",
    "        fn = os.path.join (\"images\", fn)\n",
    "\n",
    "        print ('Each> ', each)\n",
    "\n",
    "        result = urllib.urlretrieve(os.path.join(url, each), fn)\n",
    "        print(result)\n",
    "\n",
    "    return n\n",
    "\n"
   ]
  }
 ],
 "metadata": {
  "kernelspec": {
   "display_name": "Python 3",
   "language": "python",
   "name": "python3"
  },
  "language_info": {
   "codemirror_mode": {
    "name": "ipython",
    "version": 3
   },
   "file_extension": ".py",
   "mimetype": "text/x-python",
   "name": "python",
   "nbconvert_exporter": "python",
   "pygments_lexer": "ipython3",
   "version": "3.7.1"
  }
 },
 "nbformat": 4,
 "nbformat_minor": 2
}
