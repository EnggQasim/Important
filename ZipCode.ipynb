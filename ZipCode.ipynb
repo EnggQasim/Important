{
 "cells": [
  {
   "cell_type": "markdown",
   "metadata": {},
   "source": [
    "# Save Images from web url"
   ]
  },
  {
   "cell_type": "code",
   "execution_count": 5,
   "metadata": {},
   "outputs": [
    {
     "name": "stdout",
     "output_type": "stream",
     "text": [
      "True****Error spacer.gif\n",
      "True****Error WebResourceb628.gif?d=ISbBAjs4_X7Q9mTWdPxucoozWfrxzfMxwoMHxJ8Yn4aPcvxKc2ymWMTBrUm9qyaLnOfA7rcPB85NegqYCSRJw3aMeZE1&t=635588804026805809\n",
      "True****Error Cover1.jpg\n",
      "True****Error dam-fund.jpg\n",
      "True****Error army-umra 2019.jpg\n",
      "True****Error tn_10439.jpg\n",
      "True****Error arrow.jpg\n",
      "True****Error arrow.jpg\n",
      "True****Error arrow.jpg\n",
      "True****Error arrow.jpg\n",
      "True****Error arrow.jpg\n",
      "True****Error arrow.jpg\n",
      "True****Error tn_10378.jpg\n",
      "True****Error tn_10429.jpg\n",
      "True****Error tn_10290.jpg\n",
      "True****Error tn_10288.jpg\n",
      "True****Error tn_Radd-ul-Fasaad1.jpg\n",
      "True****Error 1.jpg\n",
      "True****Error tn_3.jpg\n",
      "False****Error ispr1.png\n",
      "True****Error PAF.gif\n",
      "False****Error navy1.png\n",
      "False****Error ndu1.png\n",
      "False****Error NUSTLOGO.png\n",
      "False****Error NUSTLOGO.png\n",
      "False****Error NUSTLOGO.png\n",
      "False****Error fwo.png\n",
      "False****Error gov.png\n",
      "False****Error awpfb.png\n"
     ]
    }
   ],
   "source": [
    "Folder = \"pak\"\n",
    "\n",
    "#url = \"https://www.google.com/search?q=get+all+images+path+from+webpage+but+not+to+save+relative+path+image+with+urllib&tbm=isch&source=lnms&sa=X&ved=0ahUKEwit_J_b8I3hAhXn2eAKHe4nDqEQ_AUIDCgD&biw=1366&bih=588&dpr=1\"\n",
    "#url = \"https://www.facebook.com\"\n",
    "#url =\"https://www.youtube.com/channel/UCml65rMhaWnwyg4dW2m5hEg?view_as=subscriber\"\n",
    "url = \"https://www.pakistanarmy.gov.pk/AWPReview/HomePage.html\"\n",
    "\n",
    "from bs4 import BeautifulSoup as BSHTML\n",
    "import urllib\n",
    "import os\n",
    "import giphypop\n",
    "import requests\n",
    "\n",
    "\n",
    "from urllib.request import Request, urlopen\n",
    "\n",
    "req = Request(url, headers={'User-Agent': 'Mozilla/5.0'})\n",
    "page = urlopen(req).read()\n",
    "\n",
    "#page = urllib.request.urlopen(url)\n",
    "soup = BSHTML(page)\n",
    "images = soup.findAll('img')\n",
    "for k, image in enumerate(images):\n",
    "    #print image source\n",
    "    #print (image['src'])\n",
    "    filename=image['src'].split('/')[-1]\n",
    "    ex=\"\"\n",
    "    if \".jpg\" in filename.lower():\n",
    "        ex=\".jpg\"\n",
    "        print(\".jpg\" in filename.lower(), end=\"****\")\n",
    "    elif \".png\" in filename.lower():\n",
    "        ex=\".png\"\n",
    "        print(\".jpg\" in filename.lower(), end=\"****\")\n",
    "    elif \".jpeg\" in filename.lower():\n",
    "        ex=\".jpeg\"\n",
    "        print(\".jpg\" in filename.lower(), end=\"****\")\n",
    "    elif \".gif\" in str(filename.lower()):\n",
    "        ex=\".gif\"\n",
    "        \n",
    "        \n",
    "        print(\".gif\" in str(filename.lower()), end=\"****\")\n",
    "    else:\n",
    "        ex=\"\"\n",
    "        \n",
    "    if not os.path.exists(Folder):\n",
    "        os.makedirs(Folder)\n",
    "    \n",
    "    try:\n",
    "        if ('http' not in image['src']):\n",
    "            urllib.request.urlretrieve(url+image['src'], Folder+\"/\"+str(k)+\"pic \"+str(ex))\n",
    "        else:\n",
    "            urllib.request.urlretrieve(image['src'], Folder+\"/\"+str(k)+\"pic \"+str(ex))\n",
    "        print(filename)\n",
    "    except:\n",
    "        print(\"Error\", filename)\n",
    "    #print alternate text\n",
    "    #print (image['alt'])\n"
   ]
  },
  {
   "cell_type": "code",
   "execution_count": 6,
   "metadata": {},
   "outputs": [
    {
     "data": {
      "text/plain": [
       "[<img height=\"1px\" src=\"images/spacer.gif\" width=\"600px\"/>,\n",
       " <img alt=\"Skip Navigation Links\" border=\"0\" height=\"0\" src=\"WebResourceb628.gif?d=ISbBAjs4_X7Q9mTWdPxucoozWfrxzfMxwoMHxJ8Yn4aPcvxKc2ymWMTBrUm9qyaLnOfA7rcPB85NegqYCSRJw3aMeZE1&amp;t=635588804026805809\" width=\"0\"/>,\n",
       " <img border=\"0\" height=\"319\" id=\"ctl00_ContentPlaceHolder1_CtrlMainImage1_imgRandom\" src=\"Galleries/Image%20Galleries/MainPagePics/Cover1.jpg\" width=\"430\"/>,\n",
       " <img alt=\"\" border=\"1\" src=\"Images/PressReleases/Thumbnails/dam-fund.jpg\" style=\"border-color:Black;border-width:1px;border-style:solid;width:130px;\" title=\"\" width=\"130\"/>,\n",
       " <img alt=\"\" border=\"1\" src=\"Images/PressReleases/Thumbnails/army-umra 2019.jpg\" style=\"border-color:Black;border-width:1px;border-style:solid;width:130px;\" title=\"\" width=\"130\"/>,\n",
       " <img alt=\"\" border=\"1\" src=\"Images/PressReleases/Thumbnails/tn_10439.jpg\" style=\"border-color:Black;border-width:1px;border-style:solid;width:130px;\" title=\"\" width=\"130\"/>,\n",
       " <img border=\"0\" src=\"images/arrow.jpg\"/>,\n",
       " <img border=\"0\" src=\"images/arrow.jpg\"/>,\n",
       " <img border=\"0\" src=\"images/arrow.jpg\"/>,\n",
       " <img border=\"0\" src=\"images/arrow.jpg\"/>,\n",
       " <img border=\"0\" src=\"images/arrow.jpg\"/>,\n",
       " <img border=\"0\" src=\"images/arrow.jpg\"/>,\n",
       " <img alt=\"Operation Radd-ul-Fasaad\" border=\"1\" height=\"75\" src=\"Galleries/Image%20Galleries/Rad-ul-Fassad/Thumbnails/tn_10378.jpg\" style=\"border-color:Black;border-width:1px;border-style:solid;height:75px;width:100px;\" width=\"100\"/>,\n",
       " <img alt=\"Operation Radd-ul-Fasaad\" border=\"1\" height=\"75\" src=\"Galleries/Image%20Galleries/Rad-ul-Fassad/Thumbnails/tn_10429.jpg\" style=\"border-color:Black;border-width:1px;border-style:solid;height:75px;width:100px;\" width=\"100\"/>,\n",
       " <img alt=\"Operation Radd-ul-Fasaad\" border=\"1\" height=\"75\" src=\"Galleries/Image%20Galleries/Rad-ul-Fassad/Thumbnails/tn_10290.jpg\" style=\"border-color:Black;border-width:1px;border-style:solid;height:75px;width:100px;\" width=\"100\"/>,\n",
       " <img alt=\"Operation Radd-ul-Fasaad\" border=\"1\" height=\"75\" src=\"Galleries/Image%20Galleries/Rad-ul-Fassad/Thumbnails/tn_10288.jpg\" style=\"border-color:Black;border-width:1px;border-style:solid;height:75px;width:100px;\" width=\"100\"/>,\n",
       " <img alt=\"Radd-ul-Fasaad\" border=\"0\" height=\"75\" src=\"Images/ExclusiveLinks/Thumbnails/tn_Radd-ul-Fasaad1.jpg\" title=\"Radd-ul-Fasaad\" width=\"140\"/>,\n",
       " <img alt=\"Join Pakistan Army\" border=\"0\" height=\"75\" src=\"Images/ExclusiveLinks/Thumbnails/1.jpg\" title=\"Join Pakistan Army\" width=\"140\"/>,\n",
       " <img alt=\"Pakistan Army : Article \" border=\"0\" height=\"75\" src=\"Images/ExclusiveLinks/Thumbnails/tn_3.jpg\" title=\"Pakistan Army : Article \" width=\"140\"/>,\n",
       " <img border=\"0\" src=\"App_Themes/Default/Images/ispr1.png\" width=\"34\"/>,\n",
       " <img border=\"0\" src=\"App_Themes/Default/Images/PAF.gif\" width=\"34\"/>,\n",
       " <img border=\"0\" src=\"App_Themes/Default/Images/navy1.png\" width=\"34\"/>,\n",
       " <img border=\"0\" src=\"App_Themes/Default/Images/ndu1.png\" width=\"34\"/>,\n",
       " <img border=\"0\" src=\"App_Themes/Default/Images/NUSTLOGO.png\" width=\"34\"/>,\n",
       " <img border=\"0\" src=\"App_Themes/Default/Images/NUSTLOGO.png\" width=\"34\"/>,\n",
       " <img border=\"0\" src=\"App_Themes/Default/Images/NUSTLOGO.png\" width=\"34\"/>,\n",
       " <img border=\"0\" src=\"App_Themes/Default/Images/fwo.png\" width=\"34\"/>,\n",
       " <img border=\"0\" src=\"App_Themes/Default/Images/gov.png\" width=\"34\"/>,\n",
       " <img border=\"0\" src=\"images/awpfb.png\"/>]"
      ]
     },
     "execution_count": 6,
     "metadata": {},
     "output_type": "execute_result"
    }
   ],
   "source": [
    "images"
   ]
  },
  {
   "cell_type": "code",
   "execution_count": null,
   "metadata": {},
   "outputs": [],
   "source": []
  }
 ],
 "metadata": {
  "kernelspec": {
   "display_name": "Python 3",
   "language": "python",
   "name": "python3"
  },
  "language_info": {
   "codemirror_mode": {
    "name": "ipython",
    "version": 3
   },
   "file_extension": ".py",
   "mimetype": "text/x-python",
   "name": "python",
   "nbconvert_exporter": "python",
   "pygments_lexer": "ipython3",
   "version": "3.7.1"
  }
 },
 "nbformat": 4,
 "nbformat_minor": 2
}
