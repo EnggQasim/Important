{
 "cells": [
  {
   "cell_type": "code",
   "execution_count": 5,
   "metadata": {},
   "outputs": [
    {
     "name": "stdout",
     "output_type": "stream",
     "text": [
      "AAuE7mBh5WtAFa_kEZoSpoRp3QcM4CsygUf2N1_7BA=s100-mo-c-c0xffffffff-rj-k-no\n",
      "Error\n",
      "Error\n",
      "Error\n",
      "Error\n",
      "Error\n",
      "Error\n",
      "AAuE7mBh5WtAFa_kEZoSpoRp3QcM4CsygUf2N1_7BA=s100-mo-c-c0xffffffff-rj-k-no\n",
      "hqdefault.jpg?sqp=-oaymwEiCMQBEG5IWvKriqkDFQgBFQAAAAAYASUAAMhCPQCAokN4AQ==&rs=AOn4CLD-6fSaWkmvFZKLcoZzkzGSrHBe2w\n",
      "hqdefault.jpg?sqp=-oaymwEiCMQBEG5IWvKriqkDFQgBFQAAAAAYASUAAMhCPQCAokN4AQ==&rs=AOn4CLCVp7ESaDkccWqbRq7TMmiZA2lK_g\n",
      "hqdefault.jpg?sqp=-oaymwEiCMQBEG5IWvKriqkDFQgBFQAAAAAYASUAAMhCPQCAokN4AQ==&rs=AOn4CLC7NWRC3GO7YyBFQSUUug5_UdB4PQ\n",
      "hqdefault.jpg?sqp=-oaymwEiCMQBEG5IWvKriqkDFQgBFQAAAAAYASUAAMhCPQCAokN4AQ==&rs=AOn4CLBD18vuU44Uha9iVHAMTH4pexkmvA\n",
      "hqdefault.jpg?sqp=-oaymwEiCMQBEG5IWvKriqkDFQgBFQAAAAAYASUAAMhCPQCAokN4AQ==&rs=AOn4CLB1ez-mmuR7zdxQXlccGVfU5hxQTA\n",
      "hqdefault.jpg?sqp=-oaymwEiCMQBEG5IWvKriqkDFQgBFQAAAAAYASUAAMhCPQCAokN4AQ==&rs=AOn4CLACAtlAnm54G0OYm_y_32IdS1O10g\n",
      "hqdefault.jpg?sqp=-oaymwEiCMQBEG5IWvKriqkDFQgBFQAAAAAYASUAAMhCPQCAokN4AQ==&rs=AOn4CLD8JwFRsmykQvzp1MZRf_Cv2W9XSA\n",
      "hqdefault.jpg?sqp=-oaymwEiCMQBEG5IWvKriqkDFQgBFQAAAAAYASUAAMhCPQCAokN4AQ==&rs=AOn4CLBIer3NKjipEsdyGMMqdeQAAsy2Ew\n",
      "hqdefault.jpg?sqp=-oaymwEiCMQBEG5IWvKriqkDFQgBFQAAAAAYASUAAMhCPQCAokN4AQ==&rs=AOn4CLC3VyMz3dsanLrfxKKSoBgTFdsGXQ\n",
      "hqdefault.jpg?sqp=-oaymwEiCMQBEG5IWvKriqkDFQgBFQAAAAAYASUAAMhCPQCAokN4AQ==&rs=AOn4CLCFup6ZPxg1Ne51DREqOugTKQbeUw\n",
      "hqdefault.jpg?sqp=-oaymwEiCMQBEG5IWvKriqkDFQgBFQAAAAAYASUAAMhCPQCAokN4AQ==&rs=AOn4CLD4Ep_WjSktFjC-OC6odBV01t_sww\n",
      "hqdefault.jpg?sqp=-oaymwEiCMQBEG5IWvKriqkDFQgBFQAAAAAYASUAAMhCPQCAokN4AQ==&rs=AOn4CLB-X9O5ndiGk9SBuVzsMNJJEPSueQ\n",
      "hqdefault.jpg?sqp=-oaymwEiCMQBEG5IWvKriqkDFQgBFQAAAAAYASUAAMhCPQCAokN4AQ==&rs=AOn4CLBiImfkWEe3UjTQSJW-i8Ml006qfQ\n",
      "hqdefault.jpg?sqp=-oaymwEiCMQBEG5IWvKriqkDFQgBFQAAAAAYASUAAMhCPQCAokN4AQ==&rs=AOn4CLDu7yz-hYQbXxviOM7hwL0XCnOouQ\n",
      "hqdefault.jpg?sqp=-oaymwEiCMQBEG5IWvKriqkDFQgBFQAAAAAYASUAAMhCPQCAokN4AQ==&rs=AOn4CLCtkmYE59Eje2j-8A_ifJLpzAbp0w\n",
      "hqdefault.jpg?sqp=-oaymwEiCMQBEG5IWvKriqkDFQgBFQAAAAAYASUAAMhCPQCAokN4AQ==&rs=AOn4CLCjafhU_H5SQyb2ka-XCDXoyw9OQA\n",
      "hqdefault.jpg?sqp=-oaymwEiCMQBEG5IWvKriqkDFQgBFQAAAAAYASUAAMhCPQCAokN4AQ==&rs=AOn4CLCmOCbs7cXkAIwETahWsQVEwoJA0Q\n",
      "hqdefault.jpg?sqp=-oaymwEiCMQBEG5IWvKriqkDFQgBFQAAAAAYASUAAMhCPQCAokN4AQ==&rs=AOn4CLCyNDR8ZiLNZdY13rJ1eyoMjUZ-6Q\n",
      "hqdefault.jpg?sqp=-oaymwEiCMQBEG5IWvKriqkDFQgBFQAAAAAYASUAAMhCPQCAokN4AQ==&rs=AOn4CLD4n8j3A3_ZjGY3j8YsSr7u5TgkFA\n",
      "?backend=innertube&cname=1&cver=1_20190314&data=backend%3Dinnertube%3Bcname%3D1%3Bcver%3D1_20190314%3Bptype%3Dcview%3Btype%3Dcview%3Butuid%3Dml65rMhaWnwyg4dW2m5hEg&foc_id=ml65rMhaWnwyg4dW2m5hEg&label=followon_cvisit&ptype=cview\n"
     ]
    }
   ],
   "source": [
    "Folder = \"aaa\"\n",
    "url = \"https://www.youtube.com/channel/UCml65rMhaWnwyg4dW2m5hEg/videos?view_as=subscriber\"\n",
    "\n",
    "from bs4 import BeautifulSoup as BSHTML\n",
    "import urllib\n",
    "import os\n",
    "\n",
    "page = urllib.request.urlopen(url)\n",
    "soup = BSHTML(page)\n",
    "images = soup.findAll('img')\n",
    "for k, image in enumerate(images):\n",
    "    #print image source\n",
    "    #print (image['src'])\n",
    "    filename=image['src'].split('/')[-1]\n",
    "    ex=\"\"\n",
    "    if \".jpg\" in filename.lower():\n",
    "        ex=\".jpg\"\n",
    "    elif \".png\" in filename.lower():\n",
    "        ex=\".png\"\n",
    "    elif \".jpeg\" in filename.lower():\n",
    "        ex=\".jpeg\"\n",
    "    elif \".gif\" in filename.lower():\n",
    "        ex=\".gif\"\n",
    "    else:\n",
    "        ex=\"\"\n",
    "        \n",
    "    if not os.path.exists(Folder):\n",
    "        os.makedirs(Folder)\n",
    "    \n",
    "    try:\n",
    "        urllib.request.urlretrieve(image['src'], Folder+\"/\"+str(k)+\"pic \"+str(ex))\n",
    "        print(filename)\n",
    "    except:\n",
    "        print(\"Error\")\n",
    "    #print alternate text\n",
    "    #print (image['alt'])\n"
   ]
  }
 ],
 "metadata": {
  "kernelspec": {
   "display_name": "Python 3",
   "language": "python",
   "name": "python3"
  },
  "language_info": {
   "codemirror_mode": {
    "name": "ipython",
    "version": 3
   },
   "file_extension": ".py",
   "mimetype": "text/x-python",
   "name": "python",
   "nbconvert_exporter": "python",
   "pygments_lexer": "ipython3",
   "version": "3.7.1"
  }
 },
 "nbformat": 4,
 "nbformat_minor": 2
}
